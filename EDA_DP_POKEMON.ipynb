{
 "cells": [
  {
   "cell_type": "markdown",
   "id": "ae76b5e3-22f1-4eb2-9a70-8e07bb426fa5",
   "metadata": {},
   "source": [
    "EXPLORATORY DATA ANALYSIS"
   ]
  },
  {
   "cell_type": "code",
   "execution_count": 1,
   "id": "9d803f1e-689f-4e3c-afa6-323c908f0532",
   "metadata": {
    "tags": []
   },
   "outputs": [],
   "source": [
    "#importation of librairies\n",
    "import pandas as pd\n",
    "import seaborn as sb\n",
    "import matplotlib.pyplot as plt\n",
    "import numpy as np"
   ]
  },
  {
   "cell_type": "code",
   "execution_count": 2,
   "id": "b2bac348-c353-458b-9cdc-8e76d529fc53",
   "metadata": {
    "tags": []
   },
   "outputs": [
    {
     "data": {
      "text/html": [
       "<div>\n",
       "<style scoped>\n",
       "    .dataframe tbody tr th:only-of-type {\n",
       "        vertical-align: middle;\n",
       "    }\n",
       "\n",
       "    .dataframe tbody tr th {\n",
       "        vertical-align: top;\n",
       "    }\n",
       "\n",
       "    .dataframe thead th {\n",
       "        text-align: right;\n",
       "    }\n",
       "</style>\n",
       "<table border=\"1\" class=\"dataframe\">\n",
       "  <thead>\n",
       "    <tr style=\"text-align: right;\">\n",
       "      <th></th>\n",
       "      <th>ID</th>\n",
       "      <th>Name</th>\n",
       "      <th>Form</th>\n",
       "      <th>Type1</th>\n",
       "      <th>Type2</th>\n",
       "      <th>Total</th>\n",
       "      <th>HP</th>\n",
       "      <th>Attack</th>\n",
       "      <th>Defense</th>\n",
       "      <th>Sp. Atk</th>\n",
       "      <th>Sp. Def</th>\n",
       "      <th>Speed</th>\n",
       "      <th>Generation</th>\n",
       "    </tr>\n",
       "  </thead>\n",
       "  <tbody>\n",
       "    <tr>\n",
       "      <th>0</th>\n",
       "      <td>1</td>\n",
       "      <td>Bulbasaur</td>\n",
       "      <td></td>\n",
       "      <td>Grass</td>\n",
       "      <td>Poison</td>\n",
       "      <td>318</td>\n",
       "      <td>45</td>\n",
       "      <td>49</td>\n",
       "      <td>49</td>\n",
       "      <td>65</td>\n",
       "      <td>65</td>\n",
       "      <td>45</td>\n",
       "      <td>1</td>\n",
       "    </tr>\n",
       "    <tr>\n",
       "      <th>1</th>\n",
       "      <td>2</td>\n",
       "      <td>Ivysaur</td>\n",
       "      <td></td>\n",
       "      <td>Grass</td>\n",
       "      <td>Poison</td>\n",
       "      <td>405</td>\n",
       "      <td>60</td>\n",
       "      <td>62</td>\n",
       "      <td>63</td>\n",
       "      <td>80</td>\n",
       "      <td>80</td>\n",
       "      <td>60</td>\n",
       "      <td>1</td>\n",
       "    </tr>\n",
       "    <tr>\n",
       "      <th>2</th>\n",
       "      <td>3</td>\n",
       "      <td>Venusaur</td>\n",
       "      <td></td>\n",
       "      <td>Grass</td>\n",
       "      <td>Poison</td>\n",
       "      <td>525</td>\n",
       "      <td>80</td>\n",
       "      <td>82</td>\n",
       "      <td>83</td>\n",
       "      <td>100</td>\n",
       "      <td>100</td>\n",
       "      <td>80</td>\n",
       "      <td>1</td>\n",
       "    </tr>\n",
       "    <tr>\n",
       "      <th>3</th>\n",
       "      <td>4</td>\n",
       "      <td>Charmander</td>\n",
       "      <td></td>\n",
       "      <td>Fire</td>\n",
       "      <td></td>\n",
       "      <td>309</td>\n",
       "      <td>39</td>\n",
       "      <td>52</td>\n",
       "      <td>43</td>\n",
       "      <td>60</td>\n",
       "      <td>50</td>\n",
       "      <td>65</td>\n",
       "      <td>1</td>\n",
       "    </tr>\n",
       "    <tr>\n",
       "      <th>4</th>\n",
       "      <td>5</td>\n",
       "      <td>Charmeleon</td>\n",
       "      <td></td>\n",
       "      <td>Fire</td>\n",
       "      <td></td>\n",
       "      <td>405</td>\n",
       "      <td>58</td>\n",
       "      <td>64</td>\n",
       "      <td>58</td>\n",
       "      <td>80</td>\n",
       "      <td>65</td>\n",
       "      <td>80</td>\n",
       "      <td>1</td>\n",
       "    </tr>\n",
       "    <tr>\n",
       "      <th>...</th>\n",
       "      <td>...</td>\n",
       "      <td>...</td>\n",
       "      <td>...</td>\n",
       "      <td>...</td>\n",
       "      <td>...</td>\n",
       "      <td>...</td>\n",
       "      <td>...</td>\n",
       "      <td>...</td>\n",
       "      <td>...</td>\n",
       "      <td>...</td>\n",
       "      <td>...</td>\n",
       "      <td>...</td>\n",
       "      <td>...</td>\n",
       "    </tr>\n",
       "    <tr>\n",
       "      <th>1040</th>\n",
       "      <td>896</td>\n",
       "      <td>Glastrier</td>\n",
       "      <td></td>\n",
       "      <td>Ice</td>\n",
       "      <td></td>\n",
       "      <td>580</td>\n",
       "      <td>100</td>\n",
       "      <td>145</td>\n",
       "      <td>130</td>\n",
       "      <td>65</td>\n",
       "      <td>110</td>\n",
       "      <td>30</td>\n",
       "      <td>8</td>\n",
       "    </tr>\n",
       "    <tr>\n",
       "      <th>1041</th>\n",
       "      <td>897</td>\n",
       "      <td>Spectrier</td>\n",
       "      <td></td>\n",
       "      <td>Ghost</td>\n",
       "      <td></td>\n",
       "      <td>580</td>\n",
       "      <td>100</td>\n",
       "      <td>65</td>\n",
       "      <td>60</td>\n",
       "      <td>145</td>\n",
       "      <td>80</td>\n",
       "      <td>130</td>\n",
       "      <td>8</td>\n",
       "    </tr>\n",
       "    <tr>\n",
       "      <th>1042</th>\n",
       "      <td>898</td>\n",
       "      <td>Calyrex</td>\n",
       "      <td></td>\n",
       "      <td>Psychic</td>\n",
       "      <td>Grass</td>\n",
       "      <td>500</td>\n",
       "      <td>100</td>\n",
       "      <td>80</td>\n",
       "      <td>80</td>\n",
       "      <td>80</td>\n",
       "      <td>80</td>\n",
       "      <td>80</td>\n",
       "      <td>8</td>\n",
       "    </tr>\n",
       "    <tr>\n",
       "      <th>1043</th>\n",
       "      <td>898</td>\n",
       "      <td>Calyrex</td>\n",
       "      <td>Ice Rider</td>\n",
       "      <td>Psychic</td>\n",
       "      <td>Ice</td>\n",
       "      <td>680</td>\n",
       "      <td>100</td>\n",
       "      <td>165</td>\n",
       "      <td>150</td>\n",
       "      <td>85</td>\n",
       "      <td>130</td>\n",
       "      <td>50</td>\n",
       "      <td>8</td>\n",
       "    </tr>\n",
       "    <tr>\n",
       "      <th>1044</th>\n",
       "      <td>898</td>\n",
       "      <td>Calyrex</td>\n",
       "      <td>Shadow Rider</td>\n",
       "      <td>Psychic</td>\n",
       "      <td>Ghost</td>\n",
       "      <td>680</td>\n",
       "      <td>100</td>\n",
       "      <td>85</td>\n",
       "      <td>80</td>\n",
       "      <td>165</td>\n",
       "      <td>100</td>\n",
       "      <td>150</td>\n",
       "      <td>8</td>\n",
       "    </tr>\n",
       "  </tbody>\n",
       "</table>\n",
       "<p>1045 rows × 13 columns</p>\n",
       "</div>"
      ],
      "text/plain": [
       "       ID        Name          Form    Type1   Type2  Total   HP  Attack  \\\n",
       "0       1   Bulbasaur                  Grass  Poison    318   45      49   \n",
       "1       2     Ivysaur                  Grass  Poison    405   60      62   \n",
       "2       3    Venusaur                  Grass  Poison    525   80      82   \n",
       "3       4  Charmander                   Fire            309   39      52   \n",
       "4       5  Charmeleon                   Fire            405   58      64   \n",
       "...   ...         ...           ...      ...     ...    ...  ...     ...   \n",
       "1040  896   Glastrier                    Ice            580  100     145   \n",
       "1041  897   Spectrier                  Ghost            580  100      65   \n",
       "1042  898     Calyrex                Psychic   Grass    500  100      80   \n",
       "1043  898     Calyrex     Ice Rider  Psychic     Ice    680  100     165   \n",
       "1044  898     Calyrex  Shadow Rider  Psychic   Ghost    680  100      85   \n",
       "\n",
       "      Defense  Sp. Atk  Sp. Def  Speed  Generation  \n",
       "0          49       65       65     45           1  \n",
       "1          63       80       80     60           1  \n",
       "2          83      100      100     80           1  \n",
       "3          43       60       50     65           1  \n",
       "4          58       80       65     80           1  \n",
       "...       ...      ...      ...    ...         ...  \n",
       "1040      130       65      110     30           8  \n",
       "1041       60      145       80    130           8  \n",
       "1042       80       80       80     80           8  \n",
       "1043      150       85      130     50           8  \n",
       "1044       80      165      100    150           8  \n",
       "\n",
       "[1045 rows x 13 columns]"
      ]
     },
     "execution_count": 2,
     "metadata": {},
     "output_type": "execute_result"
    }
   ],
   "source": [
    "#importation of dataframe\n",
    "df= pd.read_csv(\"EDA_DP_Pokemon.csv\")\n",
    "df"
   ]
  },
  {
   "cell_type": "code",
   "execution_count": 3,
   "id": "b1c11697-a21c-4c95-afa7-cc6b60dbe130",
   "metadata": {
    "tags": []
   },
   "outputs": [
    {
     "data": {
      "text/html": [
       "<div>\n",
       "<style scoped>\n",
       "    .dataframe tbody tr th:only-of-type {\n",
       "        vertical-align: middle;\n",
       "    }\n",
       "\n",
       "    .dataframe tbody tr th {\n",
       "        vertical-align: top;\n",
       "    }\n",
       "\n",
       "    .dataframe thead th {\n",
       "        text-align: right;\n",
       "    }\n",
       "</style>\n",
       "<table border=\"1\" class=\"dataframe\">\n",
       "  <thead>\n",
       "    <tr style=\"text-align: right;\">\n",
       "      <th></th>\n",
       "      <th>ID</th>\n",
       "      <th>Name</th>\n",
       "      <th>Form</th>\n",
       "      <th>Type1</th>\n",
       "      <th>Type2</th>\n",
       "      <th>Total</th>\n",
       "      <th>HP</th>\n",
       "      <th>Attack</th>\n",
       "      <th>Defense</th>\n",
       "      <th>Sp. Atk</th>\n",
       "      <th>Sp. Def</th>\n",
       "      <th>Speed</th>\n",
       "      <th>Generation</th>\n",
       "    </tr>\n",
       "  </thead>\n",
       "  <tbody>\n",
       "    <tr>\n",
       "      <th>0</th>\n",
       "      <td>1</td>\n",
       "      <td>Bulbasaur</td>\n",
       "      <td></td>\n",
       "      <td>Grass</td>\n",
       "      <td>Poison</td>\n",
       "      <td>318</td>\n",
       "      <td>45</td>\n",
       "      <td>49</td>\n",
       "      <td>49</td>\n",
       "      <td>65</td>\n",
       "      <td>65</td>\n",
       "      <td>45</td>\n",
       "      <td>1</td>\n",
       "    </tr>\n",
       "    <tr>\n",
       "      <th>1</th>\n",
       "      <td>2</td>\n",
       "      <td>Ivysaur</td>\n",
       "      <td></td>\n",
       "      <td>Grass</td>\n",
       "      <td>Poison</td>\n",
       "      <td>405</td>\n",
       "      <td>60</td>\n",
       "      <td>62</td>\n",
       "      <td>63</td>\n",
       "      <td>80</td>\n",
       "      <td>80</td>\n",
       "      <td>60</td>\n",
       "      <td>1</td>\n",
       "    </tr>\n",
       "    <tr>\n",
       "      <th>2</th>\n",
       "      <td>3</td>\n",
       "      <td>Venusaur</td>\n",
       "      <td></td>\n",
       "      <td>Grass</td>\n",
       "      <td>Poison</td>\n",
       "      <td>525</td>\n",
       "      <td>80</td>\n",
       "      <td>82</td>\n",
       "      <td>83</td>\n",
       "      <td>100</td>\n",
       "      <td>100</td>\n",
       "      <td>80</td>\n",
       "      <td>1</td>\n",
       "    </tr>\n",
       "    <tr>\n",
       "      <th>3</th>\n",
       "      <td>4</td>\n",
       "      <td>Charmander</td>\n",
       "      <td></td>\n",
       "      <td>Fire</td>\n",
       "      <td></td>\n",
       "      <td>309</td>\n",
       "      <td>39</td>\n",
       "      <td>52</td>\n",
       "      <td>43</td>\n",
       "      <td>60</td>\n",
       "      <td>50</td>\n",
       "      <td>65</td>\n",
       "      <td>1</td>\n",
       "    </tr>\n",
       "    <tr>\n",
       "      <th>4</th>\n",
       "      <td>5</td>\n",
       "      <td>Charmeleon</td>\n",
       "      <td></td>\n",
       "      <td>Fire</td>\n",
       "      <td></td>\n",
       "      <td>405</td>\n",
       "      <td>58</td>\n",
       "      <td>64</td>\n",
       "      <td>58</td>\n",
       "      <td>80</td>\n",
       "      <td>65</td>\n",
       "      <td>80</td>\n",
       "      <td>1</td>\n",
       "    </tr>\n",
       "  </tbody>\n",
       "</table>\n",
       "</div>"
      ],
      "text/plain": [
       "   ID        Name Form  Type1   Type2  Total  HP  Attack  Defense  Sp. Atk  \\\n",
       "0   1   Bulbasaur       Grass  Poison    318  45      49       49       65   \n",
       "1   2     Ivysaur       Grass  Poison    405  60      62       63       80   \n",
       "2   3    Venusaur       Grass  Poison    525  80      82       83      100   \n",
       "3   4  Charmander        Fire            309  39      52       43       60   \n",
       "4   5  Charmeleon        Fire            405  58      64       58       80   \n",
       "\n",
       "   Sp. Def  Speed  Generation  \n",
       "0       65     45           1  \n",
       "1       80     60           1  \n",
       "2      100     80           1  \n",
       "3       50     65           1  \n",
       "4       65     80           1  "
      ]
     },
     "execution_count": 3,
     "metadata": {},
     "output_type": "execute_result"
    }
   ],
   "source": [
    "#view the head of data\n",
    "df.head(5)"
   ]
  },
  {
   "cell_type": "code",
   "execution_count": 4,
   "id": "6a0f14ad-beef-4b49-af52-cf5ac44c2df6",
   "metadata": {
    "tags": []
   },
   "outputs": [
    {
     "name": "stdout",
     "output_type": "stream",
     "text": [
      "<class 'pandas.core.frame.DataFrame'>\n",
      "RangeIndex: 1045 entries, 0 to 1044\n",
      "Data columns (total 13 columns):\n",
      " #   Column      Non-Null Count  Dtype \n",
      "---  ------      --------------  ----- \n",
      " 0   ID          1045 non-null   int64 \n",
      " 1   Name        1045 non-null   object\n",
      " 2   Form        1045 non-null   object\n",
      " 3   Type1       1045 non-null   object\n",
      " 4   Type2       1045 non-null   object\n",
      " 5   Total       1045 non-null   int64 \n",
      " 6   HP          1045 non-null   int64 \n",
      " 7   Attack      1045 non-null   int64 \n",
      " 8   Defense     1045 non-null   int64 \n",
      " 9   Sp. Atk     1045 non-null   int64 \n",
      " 10  Sp. Def     1045 non-null   int64 \n",
      " 11  Speed       1045 non-null   int64 \n",
      " 12  Generation  1045 non-null   int64 \n",
      "dtypes: int64(9), object(4)\n",
      "memory usage: 106.3+ KB\n"
     ]
    }
   ],
   "source": [
    "#use the method info to overview data types\n",
    "df.info()"
   ]
  },
  {
   "cell_type": "code",
   "execution_count": 5,
   "id": "2b638b53-f9f4-40dd-9a7b-7eb6ea8abff7",
   "metadata": {
    "tags": []
   },
   "outputs": [],
   "source": [
    "#view categorical data\n",
    "ctg_dt=df.select_dtypes('O').columns.tolist()"
   ]
  },
  {
   "cell_type": "code",
   "execution_count": 6,
   "id": "33b8f663-3e3d-4a09-bf9f-fcb4e468b9e2",
   "metadata": {
    "tags": []
   },
   "outputs": [],
   "source": [
    "#View the numerical data\n",
    "nm_dt=df.select_dtypes('number').columns.tolist()"
   ]
  },
  {
   "cell_type": "code",
   "execution_count": 7,
   "id": "5a8c02b0-9cf3-41f5-83ad-f611134f041a",
   "metadata": {
    "tags": []
   },
   "outputs": [],
   "source": [
    "#remove Total and ID columns\n",
    "df1 = df.drop(['Name','Form','Type1','Type2','ID','Total'], axis=1)"
   ]
  },
  {
   "cell_type": "markdown",
   "id": "4f656fdf-67a1-4232-92ca-42e6acfd7e39",
   "metadata": {},
   "source": [
    "SEARCH OUTLIERS VALUES"
   ]
  },
  {
   "cell_type": "code",
   "execution_count": 8,
   "id": "2ea26ca5-034b-4492-a2d3-203e1c8ff6ff",
   "metadata": {
    "tags": []
   },
   "outputs": [
    {
     "data": {
      "text/html": [
       "<div>\n",
       "<style scoped>\n",
       "    .dataframe tbody tr th:only-of-type {\n",
       "        vertical-align: middle;\n",
       "    }\n",
       "\n",
       "    .dataframe tbody tr th {\n",
       "        vertical-align: top;\n",
       "    }\n",
       "\n",
       "    .dataframe thead th {\n",
       "        text-align: right;\n",
       "    }\n",
       "</style>\n",
       "<table border=\"1\" class=\"dataframe\">\n",
       "  <thead>\n",
       "    <tr style=\"text-align: right;\">\n",
       "      <th></th>\n",
       "      <th>ID</th>\n",
       "      <th>Total</th>\n",
       "      <th>HP</th>\n",
       "      <th>Attack</th>\n",
       "      <th>Defense</th>\n",
       "      <th>Sp. Atk</th>\n",
       "      <th>Sp. Def</th>\n",
       "      <th>Speed</th>\n",
       "      <th>Generation</th>\n",
       "    </tr>\n",
       "  </thead>\n",
       "  <tbody>\n",
       "    <tr>\n",
       "      <th>count</th>\n",
       "      <td>1045.000000</td>\n",
       "      <td>1045.000000</td>\n",
       "      <td>1045.000000</td>\n",
       "      <td>1045.000000</td>\n",
       "      <td>1045.000000</td>\n",
       "      <td>1045.000000</td>\n",
       "      <td>1045.000000</td>\n",
       "      <td>1045.000000</td>\n",
       "      <td>1045.000000</td>\n",
       "    </tr>\n",
       "    <tr>\n",
       "      <th>mean</th>\n",
       "      <td>440.769378</td>\n",
       "      <td>439.314833</td>\n",
       "      <td>70.067943</td>\n",
       "      <td>80.466986</td>\n",
       "      <td>74.661244</td>\n",
       "      <td>73.022010</td>\n",
       "      <td>72.288995</td>\n",
       "      <td>68.807656</td>\n",
       "      <td>4.454545</td>\n",
       "    </tr>\n",
       "    <tr>\n",
       "      <th>std</th>\n",
       "      <td>262.517231</td>\n",
       "      <td>121.970701</td>\n",
       "      <td>26.671411</td>\n",
       "      <td>32.413665</td>\n",
       "      <td>31.237903</td>\n",
       "      <td>32.724797</td>\n",
       "      <td>28.074148</td>\n",
       "      <td>30.210094</td>\n",
       "      <td>2.269043</td>\n",
       "    </tr>\n",
       "    <tr>\n",
       "      <th>min</th>\n",
       "      <td>1.000000</td>\n",
       "      <td>175.000000</td>\n",
       "      <td>1.000000</td>\n",
       "      <td>5.000000</td>\n",
       "      <td>5.000000</td>\n",
       "      <td>10.000000</td>\n",
       "      <td>20.000000</td>\n",
       "      <td>5.000000</td>\n",
       "      <td>1.000000</td>\n",
       "    </tr>\n",
       "    <tr>\n",
       "      <th>25%</th>\n",
       "      <td>212.000000</td>\n",
       "      <td>330.000000</td>\n",
       "      <td>50.000000</td>\n",
       "      <td>55.000000</td>\n",
       "      <td>50.000000</td>\n",
       "      <td>50.000000</td>\n",
       "      <td>50.000000</td>\n",
       "      <td>45.000000</td>\n",
       "      <td>3.000000</td>\n",
       "    </tr>\n",
       "    <tr>\n",
       "      <th>50%</th>\n",
       "      <td>436.000000</td>\n",
       "      <td>458.000000</td>\n",
       "      <td>68.000000</td>\n",
       "      <td>77.000000</td>\n",
       "      <td>70.000000</td>\n",
       "      <td>65.000000</td>\n",
       "      <td>70.000000</td>\n",
       "      <td>65.000000</td>\n",
       "      <td>5.000000</td>\n",
       "    </tr>\n",
       "    <tr>\n",
       "      <th>75%</th>\n",
       "      <td>670.000000</td>\n",
       "      <td>515.000000</td>\n",
       "      <td>82.000000</td>\n",
       "      <td>100.000000</td>\n",
       "      <td>90.000000</td>\n",
       "      <td>95.000000</td>\n",
       "      <td>90.000000</td>\n",
       "      <td>90.000000</td>\n",
       "      <td>6.000000</td>\n",
       "    </tr>\n",
       "    <tr>\n",
       "      <th>max</th>\n",
       "      <td>898.000000</td>\n",
       "      <td>1125.000000</td>\n",
       "      <td>255.000000</td>\n",
       "      <td>190.000000</td>\n",
       "      <td>250.000000</td>\n",
       "      <td>194.000000</td>\n",
       "      <td>250.000000</td>\n",
       "      <td>200.000000</td>\n",
       "      <td>8.000000</td>\n",
       "    </tr>\n",
       "  </tbody>\n",
       "</table>\n",
       "</div>"
      ],
      "text/plain": [
       "                ID        Total           HP       Attack      Defense  \\\n",
       "count  1045.000000  1045.000000  1045.000000  1045.000000  1045.000000   \n",
       "mean    440.769378   439.314833    70.067943    80.466986    74.661244   \n",
       "std     262.517231   121.970701    26.671411    32.413665    31.237903   \n",
       "min       1.000000   175.000000     1.000000     5.000000     5.000000   \n",
       "25%     212.000000   330.000000    50.000000    55.000000    50.000000   \n",
       "50%     436.000000   458.000000    68.000000    77.000000    70.000000   \n",
       "75%     670.000000   515.000000    82.000000   100.000000    90.000000   \n",
       "max     898.000000  1125.000000   255.000000   190.000000   250.000000   \n",
       "\n",
       "           Sp. Atk      Sp. Def        Speed   Generation  \n",
       "count  1045.000000  1045.000000  1045.000000  1045.000000  \n",
       "mean     73.022010    72.288995    68.807656     4.454545  \n",
       "std      32.724797    28.074148    30.210094     2.269043  \n",
       "min      10.000000    20.000000     5.000000     1.000000  \n",
       "25%      50.000000    50.000000    45.000000     3.000000  \n",
       "50%      65.000000    70.000000    65.000000     5.000000  \n",
       "75%      95.000000    90.000000    90.000000     6.000000  \n",
       "max     194.000000   250.000000   200.000000     8.000000  "
      ]
     },
     "execution_count": 8,
     "metadata": {},
     "output_type": "execute_result"
    }
   ],
   "source": [
    "#METHOD 1 use Describe\n",
    "df.describe()"
   ]
  },
  {
   "cell_type": "code",
   "execution_count": 9,
   "id": "950a56de-bf2f-4138-a162-d2de055bd96f",
   "metadata": {
    "tags": []
   },
   "outputs": [
    {
     "data": {
      "text/plain": [
       "<Axes: >"
      ]
     },
     "execution_count": 9,
     "metadata": {},
     "output_type": "execute_result"
    },
    {
     "data": {
      "image/png": "[encoded data removed]",
      "text/plain": [
       "<Figure size 640x480 with 1 Axes>"
      ]
     },
     "metadata": {},
     "output_type": "display_data"
    }
   ],
   "source": [
    "#METHOD 2 use Boxplot\n",
    "sb.boxplot(data=df1, orient=\"v\")"
   ]
  },
  {
   "cell_type": "code",
   "execution_count": 10,
   "id": "5f80f3ae-279b-4741-84e1-ad5438cd7498",
   "metadata": {
    "tags": []
   },
   "outputs": [
    {
     "data": {
      "text/plain": [
       "HP            1.814280\n",
       "Attack        0.486414\n",
       "Defense       1.174320\n",
       "Sp. Atk       0.723411\n",
       "Sp. Def       0.935755\n",
       "Speed         0.433354\n",
       "Generation   -0.026519\n",
       "dtype: float64"
      ]
     },
     "execution_count": 10,
     "metadata": {},
     "output_type": "execute_result"
    }
   ],
   "source": [
    "#METHOD 3 use skew\n",
    "df1.skew()"
   ]
  },
  {
   "cell_type": "markdown",
   "id": "92b6e7c4-2fae-4c36-8ce6-3a9f7d93d60f",
   "metadata": {},
   "source": [
    "Verify Missing Data"
   ]
  },
  {
   "cell_type": "code",
   "execution_count": 16,
   "id": "5bfe634f-fef2-4893-ae5e-532710b99e09",
   "metadata": {
    "tags": []
   },
   "outputs": [
    {
     "data": {
      "text/plain": [
       "ID            0\n",
       "Name          0\n",
       "Form          0\n",
       "Type1         0\n",
       "Type2         0\n",
       "Total         0\n",
       "HP            0\n",
       "Attack        0\n",
       "Defense       0\n",
       "Sp. Atk       0\n",
       "Sp. Def       0\n",
       "Speed         0\n",
       "Generation    0\n",
       "dtype: int64"
      ]
     },
     "execution_count": 16,
     "metadata": {},
     "output_type": "execute_result"
    }
   ],
   "source": [
    "#use isnull method\n",
    "df.isnull().sum()"
   ]
  },
  {
   "cell_type": "code",
   "execution_count": 17,
   "id": "2e9071b5-6065-4f08-80ff-d13279154ed1",
   "metadata": {
    "tags": []
   },
   "outputs": [
    {
     "data": {
      "text/plain": [
       "ID            0\n",
       "Name          0\n",
       "Form          0\n",
       "Type1         0\n",
       "Type2         0\n",
       "Total         0\n",
       "HP            0\n",
       "Attack        0\n",
       "Defense       0\n",
       "Sp. Atk       0\n",
       "Sp. Def       0\n",
       "Speed         0\n",
       "Generation    0\n",
       "dtype: int64"
      ]
     },
     "execution_count": 17,
     "metadata": {},
     "output_type": "execute_result"
    }
   ],
   "source": [
    "#use isna method\n",
    "df.isna().sum()"
   ]
  },
  {
   "cell_type": "markdown",
   "id": "952df620-f4ee-4887-b308-292de1739be2",
   "metadata": {},
   "source": [
    "Check for duplicated values"
   ]
  },
  {
   "cell_type": "code",
   "execution_count": 21,
   "id": "22b3affc-b13a-454d-874d-79e344c8e218",
   "metadata": {
    "tags": []
   },
   "outputs": [
    {
     "data": {
      "text/plain": [
       "0"
      ]
     },
     "execution_count": 21,
     "metadata": {},
     "output_type": "execute_result"
    }
   ],
   "source": [
    "df.duplicated().sum()"
   ]
  },
  {
   "cell_type": "code",
   "execution_count": null,
   "id": "93598fae-9a9a-4faa-912e-965d2b08b15d",
   "metadata": {},
   "outputs": [],
   "source": []
  }
 ],
 "metadata": {
  "kernelspec": {
   "display_name": "Python 3 (ipykernel)",
   "language": "python",
   "name": "python3"
  },
  "language_info": {
   "codemirror_mode": {
    "name": "ipython",
    "version": 3
   },
   "file_extension": ".py",
   "mimetype": "text/x-python",
   "name": "python",
   "nbconvert_exporter": "python",
   "pygments_lexer": "ipython3",
   "version": "3.11.5"
  }
 },
 "nbformat": 4,
 "nbformat_minor": 5
}
